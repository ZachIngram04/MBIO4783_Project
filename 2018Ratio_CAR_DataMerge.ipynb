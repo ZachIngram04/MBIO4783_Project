{
 "cells": [
  {
   "cell_type": "code",
   "execution_count": 1,
   "id": "1fd31129-2332-4b28-a4be-c4ab5f45eb5f",
   "metadata": {},
   "outputs": [],
   "source": [
    "# import libraries for data merging and visualization\n",
    "import numpy as np\n",
    "import datetime as dt\n",
    "from datetime import timedelta\n",
    "import pandas as pd\n",
    "import sqlite3\n",
    "import seaborn as sns\n",
    "from sklearn import preprocessing, svm\n",
    "from sklearn.linear_model import LinearRegression\n",
    "from sklearn.model_selection import train_test_split\n",
    "import matplotlib.pyplot as plt"
   ]
  },
  {
   "cell_type": "code",
   "execution_count": 13,
   "id": "76dd98e5-8446-499d-aa6d-b533be76c2a4",
   "metadata": {},
   "outputs": [],
   "source": [
    "# import firm pay ratio data\n",
    "RatioData2018 = pd.read_excel('Data/2018_Pay_Ratio.xlsx', parse_dates=['FilingDate'])\n",
    "# RatioData2018.head()\n",
    "# RatioData2018.info()"
   ]
  },
  {
   "cell_type": "code",
   "execution_count": 14,
   "id": "70137e39-620e-4289-9eeb-b084963bcf8b",
   "metadata": {},
   "outputs": [],
   "source": [
    "# import BookToMarket and MktCap data\n",
    "BMC = pd.read_csv('Data/BMC.csv', parse_dates=['datadate'])\n",
    "# BMC.head()"
   ]
  },
  {
   "cell_type": "code",
   "execution_count": 15,
   "id": "40fffd3a-70e5-4b4e-a8c0-10302b27ebfe",
   "metadata": {},
   "outputs": [],
   "source": [
    "# merge data from BMC with RatioData2018\n",
    "Merge1 = pd.merge(RatioData2018, BMC, how='left', on=['Ticker', 'FiscalYear'])\n",
    "# Merge1.head(10)\n",
    "# Merge1.info()"
   ]
  },
  {
   "cell_type": "code",
   "execution_count": 16,
   "id": "cc89a602-1337-4cec-8396-53a304fe1404",
   "metadata": {},
   "outputs": [],
   "source": [
    "# import CAR data\n",
    "CAR = pd.read_csv('Data/CAR.csv', parse_dates=['date'])\n",
    "# CAR.head()\n",
    "# CAR.info()"
   ]
  },
  {
   "cell_type": "code",
   "execution_count": 17,
   "id": "a6cf9f1a-85fa-4a3a-a97e-65ecf421a6e6",
   "metadata": {},
   "outputs": [],
   "source": [
    "# use timedelta to begin organizing Merge1 data\n",
    "Merge1['begdate'] = Merge1['FilingDate']-timedelta(days=1)\n",
    "Merge1['enddate'] = Merge1['FilingDate']+timedelta(days=5)\n",
    "# Merge1.head()\n",
    "# Merge1.info()"
   ]
  },
  {
   "cell_type": "code",
   "execution_count": 18,
   "id": "964ab92c-88c1-4b1c-8677-da2064e46830",
   "metadata": {},
   "outputs": [],
   "source": [
    "# use sql query to merge CAR data with Merge1 data\n",
    "sqlconn = sqlite3.connect(':memory:')\n",
    "Merge1.to_sql('Merge1',sqlconn)\n",
    "CAR.to_sql('CAR', sqlconn)\n",
    "\n",
    "qry = '''\n",
    "     SELECT\n",
    "    a.Ticker, a.FilingDate, a.PayRatio, a.MktCap, a.BookToMarket, a.begdate, a.enddate, b.date, b.AbnormalReturn\n",
    "    FROM Merge1 as a \n",
    "    LEFT JOIN CAR as b\n",
    "    ON a.Ticker = b.Ticker\n",
    "    AND a.begdate <= b.date \n",
    "    AND b.date <= a.enddate\n",
    "    ORDER BY No\n",
    "    '''\n",
    "\n",
    "Merge2 = pd.read_sql_query(qry, sqlconn)\n",
    "# Merge2.head()\n",
    "# Merge2.info()"
   ]
  },
  {
   "cell_type": "code",
   "execution_count": 19,
   "id": "bdc418ea-d1e5-4156-a310-d3c5360f0f76",
   "metadata": {},
   "outputs": [],
   "source": [
    "# further cleaning of merged data\n",
    "Merge2 = Merge2.dropna()\n",
    "# Merge2.shape\n",
    "# Merge2.head(20)\n",
    "# Merge2.describe()"
   ]
  },
  {
   "cell_type": "code",
   "execution_count": 20,
   "id": "04ed1d6d-3b69-471a-a7c0-b5797c0bf054",
   "metadata": {},
   "outputs": [],
   "source": [
    "# organizing and finalizing the merged data\n",
    "FinalMerge = Merge2.copy()\n",
    "\n",
    "sqlconn = sqlite3.connect(':memory:')\n",
    "FinalMerge.to_sql('FinalMerge',sqlconn)\n",
    "\n",
    "qry = '''\n",
    "     SELECT\n",
    "    Ticker, FilingDate, PayRatio, MktCap, BookToMarket, begdate, enddate, date, sum(AbnormalReturn) AbnormalReturn\n",
    "    FROM FinalMerge\n",
    "    \n",
    " \n",
    "    GROUP BY Ticker\n",
    "    '''\n",
    "\n",
    "FinalMerge = pd.read_sql_query(qry, sqlconn)\n",
    "FinalMerge['lnPayRatio'] = np.log(FinalMerge['PayRatio'])\n",
    "FinalMerge['lnMktCap'] = np.log(FinalMerge['MktCap'])\n",
    "# FinalMerge.head()\n",
    "# FinalMerge.info()"
   ]
  },
  {
   "cell_type": "code",
   "execution_count": 21,
   "id": "5d98dfbf-9cc5-4228-892e-e14e00f33425",
   "metadata": {},
   "outputs": [],
   "source": [
    "# saving the merged data as a .csv\n",
    "df_FinalMerge = pd.DataFrame(FinalMerge)\n",
    "df_FinalMerge.to_csv('Data/2018Ratio_CAR_BMC_Merged.csv', index=False)"
   ]
  },
  {
   "cell_type": "code",
   "execution_count": 24,
   "id": "6f5948d3-2df6-4200-bfff-ec55c06ca9b5",
   "metadata": {},
   "outputs": [
    {
     "name": "stdout",
     "output_type": "stream",
     "text": [
      "Coefficient of Determination: 0.00017082658002631756\n",
      "Intercept: [-0.00303849]\n",
      "Slope: [[0.00377777]]\n"
     ]
    },
    {
     "data": {
      "image/png": "[encoded data removed]",
      "text/plain": [
       "<Figure size 640x480 with 1 Axes>"
      ]
     },
     "metadata": {},
     "output_type": "display_data"
    }
   ],
   "source": [
    "# visualization\n",
    "df_binary = FinalMerge[['lnPayRatio', 'AbnormalReturn']]\n",
    "df_binary.columns = ['Pay Ratio', 'CAR']\n",
    "# df_binary.head()\n",
    "\n",
    "# sns.lmplot(x = \"Pay Ratio\", y = \"CAR\", \n",
    "#            data = df_binary, \n",
    "#            order = 2, \n",
    "#            ci = None)\n",
    "\n",
    "x = np.array(np.log(df_binary['Pay Ratio'])).reshape(-1, 1)\n",
    "y = np.array(df_binary['CAR']).reshape(-1, 1)\n",
    "\n",
    "model = LinearRegression().fit(x, y)\n",
    "r_sq = model.score(x, y)\n",
    "print(f\"Coefficient of Determination: {r_sq}\")\n",
    "print(f\"Intercept: {model.intercept_}\")\n",
    "print(f\"Slope: {model.coef_}\")\n",
    "\n",
    "y_regr = np.array([model.coef_ * i + model.intercept_ for i in x]).reshape(-1, 1)\n",
    "\n",
    "plt.title('ln(CEO Pay Ratio) (x) vs. CAR[-1,+5] (y)')\n",
    "plt.scatter(x, y, color='blue')\n",
    "plt.plot(x, y_regr, color='orange')\n",
    "plt.show()"
   ]
  },
  {
   "cell_type": "code",
   "execution_count": null,
   "id": "79fbfd8f-83ef-4425-a8a7-fa054f8af761",
   "metadata": {},
   "outputs": [],
   "source": []
  }
 ],
 "metadata": {
  "kernelspec": {
   "display_name": "Python 3 (ipykernel)",
   "language": "python",
   "name": "python3"
  },
  "language_info": {
   "codemirror_mode": {
    "name": "ipython",
    "version": 3
   },
   "file_extension": ".py",
   "mimetype": "text/x-python",
   "name": "python",
   "nbconvert_exporter": "python",
   "pygments_lexer": "ipython3",
   "version": "3.9.13"
  }
 },
 "nbformat": 4,
 "nbformat_minor": 5
}
